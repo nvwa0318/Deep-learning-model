{
  "nbformat": 4,
  "nbformat_minor": 0,
  "metadata": {
    "colab": {
      "provenance": [],
      "authorship_tag": "ABX9TyMbQWyfzEqrirU3ETJJaf0c",
      "include_colab_link": true
    },
    "kernelspec": {
      "name": "python3",
      "display_name": "Python 3"
    },
    "language_info": {
      "name": "python"
    }
  },
  "cells": [
    {
      "cell_type": "markdown",
      "metadata": {
        "id": "view-in-github",
        "colab_type": "text"
      },
      "source": [
        "<a href=\"https://colab.research.google.com/github/nvwa0318/Deep-learning-model/blob/main/Deep_learning_of_classification.ipynb\" target=\"_parent\"><img src=\"https://colab.research.google.com/assets/colab-badge.svg\" alt=\"Open In Colab\"/></a>"
      ]
    },
    {
      "cell_type": "code",
      "execution_count": null,
      "metadata": {
        "id": "D-6TRVcbH8nw"
      },
      "outputs": [],
      "source": [
        "mport pandas as pd\n",
        "from collections import Counter\n",
        "from sklearn.preprocessing import LabelEncoder\n",
        "import tensorflow\n",
        "from tensorflow.keras.models import Sequential\n",
        "from tensorflow.keras.layers import  InputLayer\n",
        "from tensorflow.keras.layers import  Dense\n",
        "from sklearn.metrics import classification_report\n",
        "import numpy as np\n",
        "\n",
        "train_data = pd.read_csv(\"air_quality_train.csv\")\n",
        "test_data = pd.read_csv(\"air_quality_test.csv\")\n",
        "\n",
        "#print columns and their respective types\n",
        "print(train_data.info())\n",
        "#print the class distribution\n",
        "print(Counter(train_data[\"Air_Quality\"]))\n",
        "#extract the features from the training data\n",
        "x_train = train_data[['PM2.5', 'PM10', 'NO', 'NO2', 'NOx', 'NH3', 'CO', 'SO2', 'O3', 'Benzene', 'Toluene', 'Xylene', 'AQI']]\n",
        "#extract the label column from the training data\n",
        "y_train = train_data[\"Air_Quality\"]\n",
        "#extract the features from the test data\n",
        "x_test = test_data[['PM2.5', 'PM10', 'NO', 'NO2', 'NOx', 'NH3', 'CO', 'SO2', 'O3', 'Benzene', 'Toluene', 'Xylene', 'AQI']]\n",
        "#extract the label column from the test data\n",
        "y_test = test_data[\"Air_Quality\"]\n",
        "\n",
        "#encode the labels into integers\n",
        "le = LabelEncoder()\n",
        "#convert the integer encoded labels into binary vectors\n",
        "y_train=le.fit_transform(y_train.astype(str))\n",
        "y_test=le.transform(y_test.astype(str))\n",
        "#convert the integer encoded labels into binary vectors\n",
        "y_train = tensorflow.keras.utils.to_categorical(y_train, dtype = 'int64')\n",
        "y_test = tensorflow.keras.utils.to_categorical(y_test, dtype = 'int64')\n",
        "\n",
        "#design the model\n",
        "model = Sequential()\n",
        "#add the input layer\n",
        "model.add(InputLayer(input_shape=(x_train.shape[1],)))\n",
        "#add a hidden layer\n",
        "model.add(Dense(10, activation='relu'))\n",
        "#add an output layer\n",
        "model.add(Dense(6, activation='softmax'))\n",
        "\n",
        "#compile the model\n",
        "model.compile(loss='categorical_crossentropy', optimizer='adam', metrics=['accuracy'])\n",
        "\n",
        "#train and evaluate the model\n",
        "model.fit(x_train, y_train, epochs = 30, batch_size = 16, verbose = 0)\n",
        "\n",
        "#get additional statistics\n",
        "y_estimate = model.predict(x_test)\n",
        "y_estimate = np.argmax(y_estimate, axis = 1)\n",
        "y_true = np.argmax(y_test, axis = 1)\n",
        "print(classification_report(y_true, y_estimate))"
      ]
    }
  ]
}